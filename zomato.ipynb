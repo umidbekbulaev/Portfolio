{
 "cells": [
  {
   "cell_type": "markdown",
   "id": "6174dc9b-d2ba-427d-89a9-6b91a33a6bb1",
   "metadata": {
    "tags": []
   },
   "source": [
    "# About Dataset:\n",
    "Dataset was taken from Kaggle web-site [zomato restaurants](https://www.kaggle.com/datasets/himanshupoddar/zomato-bangalore-restaurants) in order to perform an Exploratory Data Analysis.    \n",
    "Data for this dataset was taken from an Indian multinational restaurant aggregator and food delivery company Zomato for **Bangalore** - capital and largest city of the Indian state of Karnataka.  "
   ]
  },
  {
   "cell_type": "code",
   "execution_count": 1,
   "id": "1ee979ea-9af6-4c5e-aaca-4ab265f8bb48",
   "metadata": {},
   "outputs": [],
   "source": [
    "import pandas as pd\n",
    "import numpy as np\n",
    "import plotly\n",
    "import plotly.express as px\n",
    "import seaborn as sns\n",
    "import matplotlib.pyplot as plt\n",
    "%matplotlib inline"
   ]
  },
  {
   "cell_type": "code",
   "execution_count": 2,
   "id": "23aab590-158f-49d0-88b7-a7346dfc3e10",
   "metadata": {},
   "outputs": [],
   "source": [
    "zomato_df = pd.read_csv('zomato.csv')"
   ]
  },
  {
   "cell_type": "code",
   "execution_count": 3,
   "id": "01440f8f-017e-4082-892f-fb9777ccc14e",
   "metadata": {},
   "outputs": [],
   "source": [
    "df = zomato_df.copy()"
   ]
  },
  {
   "cell_type": "code",
   "execution_count": 4,
   "id": "f7d28dd4-3a49-48f3-af01-45ff5b8a25e4",
   "metadata": {},
   "outputs": [
    {
     "data": {
      "text/html": [
       "<div>\n",
       "<style scoped>\n",
       "    .dataframe tbody tr th:only-of-type {\n",
       "        vertical-align: middle;\n",
       "    }\n",
       "\n",
       "    .dataframe tbody tr th {\n",
       "        vertical-align: top;\n",
       "    }\n",
       "\n",
       "    .dataframe thead th {\n",
       "        text-align: right;\n",
       "    }\n",
       "</style>\n",
       "<table border=\"1\" class=\"dataframe\">\n",
       "  <thead>\n",
       "    <tr style=\"text-align: right;\">\n",
       "      <th></th>\n",
       "      <th>url</th>\n",
       "      <th>address</th>\n",
       "      <th>name</th>\n",
       "      <th>online_order</th>\n",
       "      <th>book_table</th>\n",
       "      <th>rate</th>\n",
       "      <th>votes</th>\n",
       "      <th>phone</th>\n",
       "      <th>location</th>\n",
       "      <th>rest_type</th>\n",
       "      <th>dish_liked</th>\n",
       "      <th>cuisines</th>\n",
       "      <th>approx_cost(for two people)</th>\n",
       "      <th>reviews_list</th>\n",
       "      <th>menu_item</th>\n",
       "      <th>listed_in(type)</th>\n",
       "      <th>listed_in(city)</th>\n",
       "    </tr>\n",
       "  </thead>\n",
       "  <tbody>\n",
       "    <tr>\n",
       "      <th>0</th>\n",
       "      <td>https://www.zomato.com/bangalore/jalsa-banasha...</td>\n",
       "      <td>942, 21st Main Road, 2nd Stage, Banashankari, ...</td>\n",
       "      <td>Jalsa</td>\n",
       "      <td>Yes</td>\n",
       "      <td>Yes</td>\n",
       "      <td>4.1/5</td>\n",
       "      <td>775</td>\n",
       "      <td>080 42297555\\r\\n+91 9743772233</td>\n",
       "      <td>Banashankari</td>\n",
       "      <td>Casual Dining</td>\n",
       "      <td>Pasta, Lunch Buffet, Masala Papad, Paneer Laja...</td>\n",
       "      <td>North Indian, Mughlai, Chinese</td>\n",
       "      <td>800</td>\n",
       "      <td>[('Rated 4.0', 'RATED\\n  A beautiful place to ...</td>\n",
       "      <td>[]</td>\n",
       "      <td>Buffet</td>\n",
       "      <td>Banashankari</td>\n",
       "    </tr>\n",
       "    <tr>\n",
       "      <th>1</th>\n",
       "      <td>https://www.zomato.com/bangalore/spice-elephan...</td>\n",
       "      <td>2nd Floor, 80 Feet Road, Near Big Bazaar, 6th ...</td>\n",
       "      <td>Spice Elephant</td>\n",
       "      <td>Yes</td>\n",
       "      <td>No</td>\n",
       "      <td>4.1/5</td>\n",
       "      <td>787</td>\n",
       "      <td>080 41714161</td>\n",
       "      <td>Banashankari</td>\n",
       "      <td>Casual Dining</td>\n",
       "      <td>Momos, Lunch Buffet, Chocolate Nirvana, Thai G...</td>\n",
       "      <td>Chinese, North Indian, Thai</td>\n",
       "      <td>800</td>\n",
       "      <td>[('Rated 4.0', 'RATED\\n  Had been here for din...</td>\n",
       "      <td>[]</td>\n",
       "      <td>Buffet</td>\n",
       "      <td>Banashankari</td>\n",
       "    </tr>\n",
       "    <tr>\n",
       "      <th>2</th>\n",
       "      <td>https://www.zomato.com/SanchurroBangalore?cont...</td>\n",
       "      <td>1112, Next to KIMS Medical College, 17th Cross...</td>\n",
       "      <td>San Churro Cafe</td>\n",
       "      <td>Yes</td>\n",
       "      <td>No</td>\n",
       "      <td>3.8/5</td>\n",
       "      <td>918</td>\n",
       "      <td>+91 9663487993</td>\n",
       "      <td>Banashankari</td>\n",
       "      <td>Cafe, Casual Dining</td>\n",
       "      <td>Churros, Cannelloni, Minestrone Soup, Hot Choc...</td>\n",
       "      <td>Cafe, Mexican, Italian</td>\n",
       "      <td>800</td>\n",
       "      <td>[('Rated 3.0', \"RATED\\n  Ambience is not that ...</td>\n",
       "      <td>[]</td>\n",
       "      <td>Buffet</td>\n",
       "      <td>Banashankari</td>\n",
       "    </tr>\n",
       "    <tr>\n",
       "      <th>3</th>\n",
       "      <td>https://www.zomato.com/bangalore/addhuri-udupi...</td>\n",
       "      <td>1st Floor, Annakuteera, 3rd Stage, Banashankar...</td>\n",
       "      <td>Addhuri Udupi Bhojana</td>\n",
       "      <td>No</td>\n",
       "      <td>No</td>\n",
       "      <td>3.7/5</td>\n",
       "      <td>88</td>\n",
       "      <td>+91 9620009302</td>\n",
       "      <td>Banashankari</td>\n",
       "      <td>Quick Bites</td>\n",
       "      <td>Masala Dosa</td>\n",
       "      <td>South Indian, North Indian</td>\n",
       "      <td>300</td>\n",
       "      <td>[('Rated 4.0', \"RATED\\n  Great food and proper...</td>\n",
       "      <td>[]</td>\n",
       "      <td>Buffet</td>\n",
       "      <td>Banashankari</td>\n",
       "    </tr>\n",
       "    <tr>\n",
       "      <th>4</th>\n",
       "      <td>https://www.zomato.com/bangalore/grand-village...</td>\n",
       "      <td>10, 3rd Floor, Lakshmi Associates, Gandhi Baza...</td>\n",
       "      <td>Grand Village</td>\n",
       "      <td>No</td>\n",
       "      <td>No</td>\n",
       "      <td>3.8/5</td>\n",
       "      <td>166</td>\n",
       "      <td>+91 8026612447\\r\\n+91 9901210005</td>\n",
       "      <td>Basavanagudi</td>\n",
       "      <td>Casual Dining</td>\n",
       "      <td>Panipuri, Gol Gappe</td>\n",
       "      <td>North Indian, Rajasthani</td>\n",
       "      <td>600</td>\n",
       "      <td>[('Rated 4.0', 'RATED\\n  Very good restaurant ...</td>\n",
       "      <td>[]</td>\n",
       "      <td>Buffet</td>\n",
       "      <td>Banashankari</td>\n",
       "    </tr>\n",
       "  </tbody>\n",
       "</table>\n",
       "</div>"
      ],
      "text/plain": [
       "                                                 url  \\\n",
       "0  https://www.zomato.com/bangalore/jalsa-banasha...   \n",
       "1  https://www.zomato.com/bangalore/spice-elephan...   \n",
       "2  https://www.zomato.com/SanchurroBangalore?cont...   \n",
       "3  https://www.zomato.com/bangalore/addhuri-udupi...   \n",
       "4  https://www.zomato.com/bangalore/grand-village...   \n",
       "\n",
       "                                             address                   name  \\\n",
       "0  942, 21st Main Road, 2nd Stage, Banashankari, ...                  Jalsa   \n",
       "1  2nd Floor, 80 Feet Road, Near Big Bazaar, 6th ...         Spice Elephant   \n",
       "2  1112, Next to KIMS Medical College, 17th Cross...        San Churro Cafe   \n",
       "3  1st Floor, Annakuteera, 3rd Stage, Banashankar...  Addhuri Udupi Bhojana   \n",
       "4  10, 3rd Floor, Lakshmi Associates, Gandhi Baza...          Grand Village   \n",
       "\n",
       "  online_order book_table   rate  votes                             phone  \\\n",
       "0          Yes        Yes  4.1/5    775    080 42297555\\r\\n+91 9743772233   \n",
       "1          Yes         No  4.1/5    787                      080 41714161   \n",
       "2          Yes         No  3.8/5    918                    +91 9663487993   \n",
       "3           No         No  3.7/5     88                    +91 9620009302   \n",
       "4           No         No  3.8/5    166  +91 8026612447\\r\\n+91 9901210005   \n",
       "\n",
       "       location            rest_type  \\\n",
       "0  Banashankari        Casual Dining   \n",
       "1  Banashankari        Casual Dining   \n",
       "2  Banashankari  Cafe, Casual Dining   \n",
       "3  Banashankari          Quick Bites   \n",
       "4  Basavanagudi        Casual Dining   \n",
       "\n",
       "                                          dish_liked  \\\n",
       "0  Pasta, Lunch Buffet, Masala Papad, Paneer Laja...   \n",
       "1  Momos, Lunch Buffet, Chocolate Nirvana, Thai G...   \n",
       "2  Churros, Cannelloni, Minestrone Soup, Hot Choc...   \n",
       "3                                        Masala Dosa   \n",
       "4                                Panipuri, Gol Gappe   \n",
       "\n",
       "                         cuisines approx_cost(for two people)  \\\n",
       "0  North Indian, Mughlai, Chinese                         800   \n",
       "1     Chinese, North Indian, Thai                         800   \n",
       "2          Cafe, Mexican, Italian                         800   \n",
       "3      South Indian, North Indian                         300   \n",
       "4        North Indian, Rajasthani                         600   \n",
       "\n",
       "                                        reviews_list menu_item  \\\n",
       "0  [('Rated 4.0', 'RATED\\n  A beautiful place to ...        []   \n",
       "1  [('Rated 4.0', 'RATED\\n  Had been here for din...        []   \n",
       "2  [('Rated 3.0', \"RATED\\n  Ambience is not that ...        []   \n",
       "3  [('Rated 4.0', \"RATED\\n  Great food and proper...        []   \n",
       "4  [('Rated 4.0', 'RATED\\n  Very good restaurant ...        []   \n",
       "\n",
       "  listed_in(type) listed_in(city)  \n",
       "0          Buffet    Banashankari  \n",
       "1          Buffet    Banashankari  \n",
       "2          Buffet    Banashankari  \n",
       "3          Buffet    Banashankari  \n",
       "4          Buffet    Banashankari  "
      ]
     },
     "execution_count": 4,
     "metadata": {},
     "output_type": "execute_result"
    }
   ],
   "source": [
    "df.head()"
   ]
  },
  {
   "cell_type": "code",
   "execution_count": 5,
   "id": "df91b953-11fb-4508-98ee-b37bc3ef8331",
   "metadata": {},
   "outputs": [
    {
     "data": {
      "text/plain": [
       "(51717, 17)"
      ]
     },
     "execution_count": 5,
     "metadata": {},
     "output_type": "execute_result"
    }
   ],
   "source": [
    "df.shape"
   ]
  },
  {
   "cell_type": "code",
   "execution_count": 6,
   "id": "f52bf3bc-938d-463d-b7e6-736a93ca79fc",
   "metadata": {},
   "outputs": [
    {
     "name": "stdout",
     "output_type": "stream",
     "text": [
      "<class 'pandas.core.frame.DataFrame'>\n",
      "RangeIndex: 51717 entries, 0 to 51716\n",
      "Data columns (total 17 columns):\n",
      " #   Column                       Non-Null Count  Dtype \n",
      "---  ------                       --------------  ----- \n",
      " 0   url                          51717 non-null  object\n",
      " 1   address                      51717 non-null  object\n",
      " 2   name                         51717 non-null  object\n",
      " 3   online_order                 51717 non-null  object\n",
      " 4   book_table                   51717 non-null  object\n",
      " 5   rate                         43942 non-null  object\n",
      " 6   votes                        51717 non-null  int64 \n",
      " 7   phone                        50509 non-null  object\n",
      " 8   location                     51696 non-null  object\n",
      " 9   rest_type                    51490 non-null  object\n",
      " 10  dish_liked                   23639 non-null  object\n",
      " 11  cuisines                     51672 non-null  object\n",
      " 12  approx_cost(for two people)  51371 non-null  object\n",
      " 13  reviews_list                 51717 non-null  object\n",
      " 14  menu_item                    51717 non-null  object\n",
      " 15  listed_in(type)              51717 non-null  object\n",
      " 16  listed_in(city)              51717 non-null  object\n",
      "dtypes: int64(1), object(16)\n",
      "memory usage: 6.7+ MB\n"
     ]
    }
   ],
   "source": [
    "df.info()"
   ]
  },
  {
   "cell_type": "markdown",
   "id": "1b0accbe-202b-4d0c-9185-6bbc28382523",
   "metadata": {},
   "source": [
    "---"
   ]
  },
  {
   "cell_type": "markdown",
   "id": "c61b3d40-aaa8-498d-9cca-5a0cf2719583",
   "metadata": {},
   "source": [
    "# Data Cleaning\n",
    "- Remove unnecessary columns\n",
    "- Rename columns \n",
    "- Check for duplicates \n",
    "- Check for missing values\n",
    "- Format individual columns\n",
    "- Change types of columns"
   ]
  },
  {
   "cell_type": "markdown",
   "id": "8c5fc2e9-7251-465b-a386-e911649683e4",
   "metadata": {},
   "source": [
    "---"
   ]
  },
  {
   "cell_type": "markdown",
   "id": "d4d55b98-a53f-4ba1-b99c-b370cb59019c",
   "metadata": {
    "tags": []
   },
   "source": [
    "### Removing unnecessary columns"
   ]
  },
  {
   "cell_type": "code",
   "execution_count": 7,
   "id": "980cbf96-5423-4b03-8bea-c7c72c0c8bf3",
   "metadata": {},
   "outputs": [
    {
     "data": {
      "text/plain": [
       "39617"
      ]
     },
     "execution_count": 7,
     "metadata": {},
     "output_type": "execute_result"
    }
   ],
   "source": [
    "#If we look at df.head in the code above, we can observe that for MENU_ITEM column all values are '[]' which equals to NaN, in this cell I count how many rows have same value in whole dataset.\n",
    "\n",
    "df['menu_item'][df['menu_item'] == '[]'].count()"
   ]
  },
  {
   "cell_type": "code",
   "execution_count": 8,
   "id": "4e3b2aa7-9b89-4d71-8c02-5cd91446e4e2",
   "metadata": {
    "tags": []
   },
   "outputs": [],
   "source": [
    "# For EDA, columns such as url, phone, reviews_list are useless \n",
    "# We could have saved 'menu_item' and 'dish_liked' columns, but they have too many missing values \n",
    "# We will use locality info in 'listed_in(city)' column, so we don't need location and address columns\n",
    "# We will use restaurant type in 'listed_in(type)' coluumn, so we don't need rest_type column\n",
    "\n",
    "columns_to_drop = ['url', 'address', 'phone','location','dish_liked', 'reviews_list', 'menu_item','rest_type']\n",
    "df.drop(columns = columns_to_drop, inplace= True)"
   ]
  },
  {
   "cell_type": "code",
   "execution_count": 9,
   "id": "cc7ac4df-4192-4e48-82c2-531d631c5e08",
   "metadata": {},
   "outputs": [
    {
     "data": {
      "text/html": [
       "<div>\n",
       "<style scoped>\n",
       "    .dataframe tbody tr th:only-of-type {\n",
       "        vertical-align: middle;\n",
       "    }\n",
       "\n",
       "    .dataframe tbody tr th {\n",
       "        vertical-align: top;\n",
       "    }\n",
       "\n",
       "    .dataframe thead th {\n",
       "        text-align: right;\n",
       "    }\n",
       "</style>\n",
       "<table border=\"1\" class=\"dataframe\">\n",
       "  <thead>\n",
       "    <tr style=\"text-align: right;\">\n",
       "      <th></th>\n",
       "      <th>name</th>\n",
       "      <th>online_order</th>\n",
       "      <th>book_table</th>\n",
       "      <th>rate</th>\n",
       "      <th>votes</th>\n",
       "      <th>cuisines</th>\n",
       "      <th>approx_cost(for two people)</th>\n",
       "      <th>listed_in(type)</th>\n",
       "      <th>listed_in(city)</th>\n",
       "    </tr>\n",
       "  </thead>\n",
       "  <tbody>\n",
       "    <tr>\n",
       "      <th>0</th>\n",
       "      <td>Jalsa</td>\n",
       "      <td>Yes</td>\n",
       "      <td>Yes</td>\n",
       "      <td>4.1/5</td>\n",
       "      <td>775</td>\n",
       "      <td>North Indian, Mughlai, Chinese</td>\n",
       "      <td>800</td>\n",
       "      <td>Buffet</td>\n",
       "      <td>Banashankari</td>\n",
       "    </tr>\n",
       "  </tbody>\n",
       "</table>\n",
       "</div>"
      ],
      "text/plain": [
       "    name online_order book_table   rate  votes  \\\n",
       "0  Jalsa          Yes        Yes  4.1/5    775   \n",
       "\n",
       "                         cuisines approx_cost(for two people) listed_in(type)  \\\n",
       "0  North Indian, Mughlai, Chinese                         800          Buffet   \n",
       "\n",
       "  listed_in(city)  \n",
       "0    Banashankari  "
      ]
     },
     "execution_count": 9,
     "metadata": {},
     "output_type": "execute_result"
    }
   ],
   "source": [
    "df.head(1)"
   ]
  },
  {
   "cell_type": "markdown",
   "id": "81a48092-71da-47c6-959a-c076834bfc90",
   "metadata": {
    "tags": []
   },
   "source": [
    "### Renaming columns"
   ]
  },
  {
   "cell_type": "code",
   "execution_count": 10,
   "id": "902f6b2e-c611-49ce-b6ff-28c2694d8b50",
   "metadata": {},
   "outputs": [],
   "source": [
    "df.rename(columns={'name':'restaurant','rate':'rating','listed_in(type)':'restaurant_type','listed_in(city)': 'locality','approx_cost(for two people)':'average_cost'},inplace=True)"
   ]
  },
  {
   "cell_type": "code",
   "execution_count": 11,
   "id": "b3d1d781-d7cf-47c9-ae3c-7b9acbbbd884",
   "metadata": {},
   "outputs": [
    {
     "data": {
      "text/html": [
       "<div>\n",
       "<style scoped>\n",
       "    .dataframe tbody tr th:only-of-type {\n",
       "        vertical-align: middle;\n",
       "    }\n",
       "\n",
       "    .dataframe tbody tr th {\n",
       "        vertical-align: top;\n",
       "    }\n",
       "\n",
       "    .dataframe thead th {\n",
       "        text-align: right;\n",
       "    }\n",
       "</style>\n",
       "<table border=\"1\" class=\"dataframe\">\n",
       "  <thead>\n",
       "    <tr style=\"text-align: right;\">\n",
       "      <th></th>\n",
       "      <th>restaurant</th>\n",
       "      <th>online_order</th>\n",
       "      <th>book_table</th>\n",
       "      <th>rating</th>\n",
       "      <th>votes</th>\n",
       "      <th>cuisines</th>\n",
       "      <th>average_cost</th>\n",
       "      <th>restaurant_type</th>\n",
       "      <th>locality</th>\n",
       "    </tr>\n",
       "  </thead>\n",
       "  <tbody>\n",
       "    <tr>\n",
       "      <th>0</th>\n",
       "      <td>Jalsa</td>\n",
       "      <td>Yes</td>\n",
       "      <td>Yes</td>\n",
       "      <td>4.1/5</td>\n",
       "      <td>775</td>\n",
       "      <td>North Indian, Mughlai, Chinese</td>\n",
       "      <td>800</td>\n",
       "      <td>Buffet</td>\n",
       "      <td>Banashankari</td>\n",
       "    </tr>\n",
       "    <tr>\n",
       "      <th>1</th>\n",
       "      <td>Spice Elephant</td>\n",
       "      <td>Yes</td>\n",
       "      <td>No</td>\n",
       "      <td>4.1/5</td>\n",
       "      <td>787</td>\n",
       "      <td>Chinese, North Indian, Thai</td>\n",
       "      <td>800</td>\n",
       "      <td>Buffet</td>\n",
       "      <td>Banashankari</td>\n",
       "    </tr>\n",
       "    <tr>\n",
       "      <th>2</th>\n",
       "      <td>San Churro Cafe</td>\n",
       "      <td>Yes</td>\n",
       "      <td>No</td>\n",
       "      <td>3.8/5</td>\n",
       "      <td>918</td>\n",
       "      <td>Cafe, Mexican, Italian</td>\n",
       "      <td>800</td>\n",
       "      <td>Buffet</td>\n",
       "      <td>Banashankari</td>\n",
       "    </tr>\n",
       "    <tr>\n",
       "      <th>3</th>\n",
       "      <td>Addhuri Udupi Bhojana</td>\n",
       "      <td>No</td>\n",
       "      <td>No</td>\n",
       "      <td>3.7/5</td>\n",
       "      <td>88</td>\n",
       "      <td>South Indian, North Indian</td>\n",
       "      <td>300</td>\n",
       "      <td>Buffet</td>\n",
       "      <td>Banashankari</td>\n",
       "    </tr>\n",
       "    <tr>\n",
       "      <th>4</th>\n",
       "      <td>Grand Village</td>\n",
       "      <td>No</td>\n",
       "      <td>No</td>\n",
       "      <td>3.8/5</td>\n",
       "      <td>166</td>\n",
       "      <td>North Indian, Rajasthani</td>\n",
       "      <td>600</td>\n",
       "      <td>Buffet</td>\n",
       "      <td>Banashankari</td>\n",
       "    </tr>\n",
       "    <tr>\n",
       "      <th>...</th>\n",
       "      <td>...</td>\n",
       "      <td>...</td>\n",
       "      <td>...</td>\n",
       "      <td>...</td>\n",
       "      <td>...</td>\n",
       "      <td>...</td>\n",
       "      <td>...</td>\n",
       "      <td>...</td>\n",
       "      <td>...</td>\n",
       "    </tr>\n",
       "    <tr>\n",
       "      <th>51712</th>\n",
       "      <td>Best Brews - Four Points by Sheraton Bengaluru...</td>\n",
       "      <td>No</td>\n",
       "      <td>No</td>\n",
       "      <td>3.6 /5</td>\n",
       "      <td>27</td>\n",
       "      <td>Continental</td>\n",
       "      <td>1,500</td>\n",
       "      <td>Pubs and bars</td>\n",
       "      <td>Whitefield</td>\n",
       "    </tr>\n",
       "    <tr>\n",
       "      <th>51713</th>\n",
       "      <td>Vinod Bar And Restaurant</td>\n",
       "      <td>No</td>\n",
       "      <td>No</td>\n",
       "      <td>NaN</td>\n",
       "      <td>0</td>\n",
       "      <td>Finger Food</td>\n",
       "      <td>600</td>\n",
       "      <td>Pubs and bars</td>\n",
       "      <td>Whitefield</td>\n",
       "    </tr>\n",
       "    <tr>\n",
       "      <th>51714</th>\n",
       "      <td>Plunge - Sheraton Grand Bengaluru Whitefield H...</td>\n",
       "      <td>No</td>\n",
       "      <td>No</td>\n",
       "      <td>NaN</td>\n",
       "      <td>0</td>\n",
       "      <td>Finger Food</td>\n",
       "      <td>2,000</td>\n",
       "      <td>Pubs and bars</td>\n",
       "      <td>Whitefield</td>\n",
       "    </tr>\n",
       "    <tr>\n",
       "      <th>51715</th>\n",
       "      <td>Chime - Sheraton Grand Bengaluru Whitefield Ho...</td>\n",
       "      <td>No</td>\n",
       "      <td>Yes</td>\n",
       "      <td>4.3 /5</td>\n",
       "      <td>236</td>\n",
       "      <td>Finger Food</td>\n",
       "      <td>2,500</td>\n",
       "      <td>Pubs and bars</td>\n",
       "      <td>Whitefield</td>\n",
       "    </tr>\n",
       "    <tr>\n",
       "      <th>51716</th>\n",
       "      <td>The Nest - The Den Bengaluru</td>\n",
       "      <td>No</td>\n",
       "      <td>No</td>\n",
       "      <td>3.4 /5</td>\n",
       "      <td>13</td>\n",
       "      <td>Finger Food, North Indian, Continental</td>\n",
       "      <td>1,500</td>\n",
       "      <td>Pubs and bars</td>\n",
       "      <td>Whitefield</td>\n",
       "    </tr>\n",
       "  </tbody>\n",
       "</table>\n",
       "<p>51717 rows × 9 columns</p>\n",
       "</div>"
      ],
      "text/plain": [
       "                                              restaurant online_order  \\\n",
       "0                                                  Jalsa          Yes   \n",
       "1                                         Spice Elephant          Yes   \n",
       "2                                        San Churro Cafe          Yes   \n",
       "3                                  Addhuri Udupi Bhojana           No   \n",
       "4                                          Grand Village           No   \n",
       "...                                                  ...          ...   \n",
       "51712  Best Brews - Four Points by Sheraton Bengaluru...           No   \n",
       "51713                           Vinod Bar And Restaurant           No   \n",
       "51714  Plunge - Sheraton Grand Bengaluru Whitefield H...           No   \n",
       "51715  Chime - Sheraton Grand Bengaluru Whitefield Ho...           No   \n",
       "51716                       The Nest - The Den Bengaluru           No   \n",
       "\n",
       "      book_table  rating  votes                                cuisines  \\\n",
       "0            Yes   4.1/5    775          North Indian, Mughlai, Chinese   \n",
       "1             No   4.1/5    787             Chinese, North Indian, Thai   \n",
       "2             No   3.8/5    918                  Cafe, Mexican, Italian   \n",
       "3             No   3.7/5     88              South Indian, North Indian   \n",
       "4             No   3.8/5    166                North Indian, Rajasthani   \n",
       "...          ...     ...    ...                                     ...   \n",
       "51712         No  3.6 /5     27                             Continental   \n",
       "51713         No     NaN      0                             Finger Food   \n",
       "51714         No     NaN      0                             Finger Food   \n",
       "51715        Yes  4.3 /5    236                             Finger Food   \n",
       "51716         No  3.4 /5     13  Finger Food, North Indian, Continental   \n",
       "\n",
       "      average_cost restaurant_type      locality  \n",
       "0              800          Buffet  Banashankari  \n",
       "1              800          Buffet  Banashankari  \n",
       "2              800          Buffet  Banashankari  \n",
       "3              300          Buffet  Banashankari  \n",
       "4              600          Buffet  Banashankari  \n",
       "...            ...             ...           ...  \n",
       "51712        1,500   Pubs and bars    Whitefield  \n",
       "51713          600   Pubs and bars    Whitefield  \n",
       "51714        2,000   Pubs and bars    Whitefield  \n",
       "51715        2,500   Pubs and bars    Whitefield  \n",
       "51716        1,500   Pubs and bars    Whitefield  \n",
       "\n",
       "[51717 rows x 9 columns]"
      ]
     },
     "execution_count": 11,
     "metadata": {},
     "output_type": "execute_result"
    }
   ],
   "source": [
    "df"
   ]
  },
  {
   "cell_type": "markdown",
   "id": "a725eb02-9b1e-4604-8991-191da3443944",
   "metadata": {
    "tags": []
   },
   "source": [
    "### Formatting individual columns"
   ]
  },
  {
   "cell_type": "markdown",
   "id": "ba9092d0-6797-4bf2-9bc8-6afeff16a2ef",
   "metadata": {},
   "source": [
    "##### Rate column"
   ]
  },
  {
   "cell_type": "code",
   "execution_count": 12,
   "id": "68db87d0-4f5c-4542-b880-6d11cbd1c29c",
   "metadata": {},
   "outputs": [
    {
     "data": {
      "text/plain": [
       "array(['4.1/5', '3.8/5', '3.7/5', '3.6/5', '4.6/5', '4.0/5', '4.2/5',\n",
       "       '3.9/5', '3.1/5', '3.0/5', '3.2/5', '3.3/5', '2.8/5', '4.4/5',\n",
       "       '4.3/5', 'NEW', '2.9/5', '3.5/5', nan, '2.6/5', '3.8 /5', '3.4/5',\n",
       "       '4.5/5', '2.5/5', '2.7/5', '4.7/5', '2.4/5', '2.2/5', '2.3/5',\n",
       "       '3.4 /5', '-', '3.6 /5', '4.8/5', '3.9 /5', '4.2 /5', '4.0 /5',\n",
       "       '4.1 /5', '3.7 /5', '3.1 /5', '2.9 /5', '3.3 /5', '2.8 /5',\n",
       "       '3.5 /5', '2.7 /5', '2.5 /5', '3.2 /5', '2.6 /5', '4.5 /5',\n",
       "       '4.3 /5', '4.4 /5', '4.9/5', '2.1/5', '2.0/5', '1.8/5', '4.6 /5',\n",
       "       '4.9 /5', '3.0 /5', '4.8 /5', '2.3 /5', '4.7 /5', '2.4 /5',\n",
       "       '2.1 /5', '2.2 /5', '2.0 /5', '1.8 /5'], dtype=object)"
      ]
     },
     "execution_count": 12,
     "metadata": {},
     "output_type": "execute_result"
    }
   ],
   "source": [
    "df.rating.unique()"
   ]
  },
  {
   "cell_type": "code",
   "execution_count": 13,
   "id": "ad88d683-09ac-4e15-80e8-4c22f8e0826a",
   "metadata": {},
   "outputs": [],
   "source": [
    "df.rating.replace('NEW', np.nan, inplace = True)\n",
    "df.rating.replace('-', np.nan, inplace = True)"
   ]
  },
  {
   "cell_type": "code",
   "execution_count": 14,
   "id": "251cbcb2-5c41-4b55-8dbe-a3591a147dba",
   "metadata": {},
   "outputs": [
    {
     "data": {
      "text/plain": [
       "0    4.1\n",
       "1    4.1\n",
       "2    3.8\n",
       "3    3.7\n",
       "4    3.8\n",
       "Name: rating, dtype: float64"
      ]
     },
     "execution_count": 14,
     "metadata": {},
     "output_type": "execute_result"
    }
   ],
   "source": [
    "X = df.rating\n",
    "X = X.astype(str)\n",
    "X = X.apply(lambda x: x.replace('/5','').rstrip())\n",
    "X = X.apply(lambda x: float(x))\n",
    "X.head()"
   ]
  },
  {
   "cell_type": "code",
   "execution_count": 15,
   "id": "9b60a790-db52-44e6-a950-83958e396aac",
   "metadata": {},
   "outputs": [
    {
     "data": {
      "text/html": [
       "<div>\n",
       "<style scoped>\n",
       "    .dataframe tbody tr th:only-of-type {\n",
       "        vertical-align: middle;\n",
       "    }\n",
       "\n",
       "    .dataframe tbody tr th {\n",
       "        vertical-align: top;\n",
       "    }\n",
       "\n",
       "    .dataframe thead th {\n",
       "        text-align: right;\n",
       "    }\n",
       "</style>\n",
       "<table border=\"1\" class=\"dataframe\">\n",
       "  <thead>\n",
       "    <tr style=\"text-align: right;\">\n",
       "      <th></th>\n",
       "      <th>restaurant</th>\n",
       "      <th>online_order</th>\n",
       "      <th>book_table</th>\n",
       "      <th>rating</th>\n",
       "      <th>votes</th>\n",
       "      <th>cuisines</th>\n",
       "      <th>average_cost</th>\n",
       "      <th>restaurant_type</th>\n",
       "      <th>locality</th>\n",
       "    </tr>\n",
       "  </thead>\n",
       "  <tbody>\n",
       "    <tr>\n",
       "      <th>0</th>\n",
       "      <td>Jalsa</td>\n",
       "      <td>Yes</td>\n",
       "      <td>Yes</td>\n",
       "      <td>4.1</td>\n",
       "      <td>775</td>\n",
       "      <td>North Indian, Mughlai, Chinese</td>\n",
       "      <td>800</td>\n",
       "      <td>Buffet</td>\n",
       "      <td>Banashankari</td>\n",
       "    </tr>\n",
       "    <tr>\n",
       "      <th>1</th>\n",
       "      <td>Spice Elephant</td>\n",
       "      <td>Yes</td>\n",
       "      <td>No</td>\n",
       "      <td>4.1</td>\n",
       "      <td>787</td>\n",
       "      <td>Chinese, North Indian, Thai</td>\n",
       "      <td>800</td>\n",
       "      <td>Buffet</td>\n",
       "      <td>Banashankari</td>\n",
       "    </tr>\n",
       "    <tr>\n",
       "      <th>2</th>\n",
       "      <td>San Churro Cafe</td>\n",
       "      <td>Yes</td>\n",
       "      <td>No</td>\n",
       "      <td>3.8</td>\n",
       "      <td>918</td>\n",
       "      <td>Cafe, Mexican, Italian</td>\n",
       "      <td>800</td>\n",
       "      <td>Buffet</td>\n",
       "      <td>Banashankari</td>\n",
       "    </tr>\n",
       "    <tr>\n",
       "      <th>3</th>\n",
       "      <td>Addhuri Udupi Bhojana</td>\n",
       "      <td>No</td>\n",
       "      <td>No</td>\n",
       "      <td>3.7</td>\n",
       "      <td>88</td>\n",
       "      <td>South Indian, North Indian</td>\n",
       "      <td>300</td>\n",
       "      <td>Buffet</td>\n",
       "      <td>Banashankari</td>\n",
       "    </tr>\n",
       "    <tr>\n",
       "      <th>4</th>\n",
       "      <td>Grand Village</td>\n",
       "      <td>No</td>\n",
       "      <td>No</td>\n",
       "      <td>3.8</td>\n",
       "      <td>166</td>\n",
       "      <td>North Indian, Rajasthani</td>\n",
       "      <td>600</td>\n",
       "      <td>Buffet</td>\n",
       "      <td>Banashankari</td>\n",
       "    </tr>\n",
       "  </tbody>\n",
       "</table>\n",
       "</div>"
      ],
      "text/plain": [
       "              restaurant online_order book_table  rating  votes  \\\n",
       "0                  Jalsa          Yes        Yes     4.1    775   \n",
       "1         Spice Elephant          Yes         No     4.1    787   \n",
       "2        San Churro Cafe          Yes         No     3.8    918   \n",
       "3  Addhuri Udupi Bhojana           No         No     3.7     88   \n",
       "4          Grand Village           No         No     3.8    166   \n",
       "\n",
       "                         cuisines average_cost restaurant_type      locality  \n",
       "0  North Indian, Mughlai, Chinese          800          Buffet  Banashankari  \n",
       "1     Chinese, North Indian, Thai          800          Buffet  Banashankari  \n",
       "2          Cafe, Mexican, Italian          800          Buffet  Banashankari  \n",
       "3      South Indian, North Indian          300          Buffet  Banashankari  \n",
       "4        North Indian, Rajasthani          600          Buffet  Banashankari  "
      ]
     },
     "execution_count": 15,
     "metadata": {},
     "output_type": "execute_result"
    }
   ],
   "source": [
    "df.rating = X\n",
    "df.head()"
   ]
  },
  {
   "cell_type": "code",
   "execution_count": 16,
   "id": "d0dd4f45-4753-443b-886a-60e4728ef07d",
   "metadata": {},
   "outputs": [
    {
     "data": {
      "text/plain": [
       "array([4.1, 3.8, 3.7, 3.6, 4.6, 4. , 4.2, 3.9, 3.1, 3. , 3.2, 3.3, 2.8,\n",
       "       4.4, 4.3, nan, 2.9, 3.5, 2.6, 3.4, 4.5, 2.5, 2.7, 4.7, 2.4, 2.2,\n",
       "       2.3, 4.8, 4.9, 2.1, 2. , 1.8])"
      ]
     },
     "execution_count": 16,
     "metadata": {},
     "output_type": "execute_result"
    }
   ],
   "source": [
    "df.rating.unique()"
   ]
  },
  {
   "cell_type": "markdown",
   "id": "a4393c82-fbb1-483d-8395-b5a302c85b2c",
   "metadata": {},
   "source": [
    "##### Resaturant column"
   ]
  },
  {
   "cell_type": "code",
   "execution_count": 17,
   "id": "94b031cf-edb2-44a8-b85d-f930a8e81cdf",
   "metadata": {},
   "outputs": [],
   "source": [
    "df['restaurant']=df['restaurant'].str.replace('[Ãx][^A-Za-z]+','',regex=True)"
   ]
  },
  {
   "cell_type": "markdown",
   "id": "1b653df0-6be0-433b-8211-4b958c1652f5",
   "metadata": {
    "tags": []
   },
   "source": [
    "### Checking for missing values"
   ]
  },
  {
   "cell_type": "code",
   "execution_count": 18,
   "id": "1b89dabe-0038-4a18-bbe8-2fc6c3f4ff09",
   "metadata": {},
   "outputs": [
    {
     "data": {
      "text/plain": [
       "restaurant             0\n",
       "online_order           0\n",
       "book_table             0\n",
       "rating             10052\n",
       "votes                  0\n",
       "cuisines              45\n",
       "average_cost         346\n",
       "restaurant_type        0\n",
       "locality               0\n",
       "dtype: int64"
      ]
     },
     "execution_count": 18,
     "metadata": {},
     "output_type": "execute_result"
    }
   ],
   "source": [
    "df.isna().sum()"
   ]
  },
  {
   "cell_type": "code",
   "execution_count": 19,
   "id": "ff33d8d1-5fc0-417f-a839-0f4aba418bc6",
   "metadata": {},
   "outputs": [],
   "source": [
    "df.dropna(inplace = True)"
   ]
  },
  {
   "cell_type": "markdown",
   "id": "4d234c59-8c41-4090-87f7-c75a107d4803",
   "metadata": {
    "tags": []
   },
   "source": [
    "### Checking for duplicates"
   ]
  },
  {
   "cell_type": "code",
   "execution_count": 20,
   "id": "0c4a9663-01c9-4226-90e3-7ee2a0fec041",
   "metadata": {},
   "outputs": [
    {
     "data": {
      "text/html": [
       "<div>\n",
       "<style scoped>\n",
       "    .dataframe tbody tr th:only-of-type {\n",
       "        vertical-align: middle;\n",
       "    }\n",
       "\n",
       "    .dataframe tbody tr th {\n",
       "        vertical-align: top;\n",
       "    }\n",
       "\n",
       "    .dataframe thead th {\n",
       "        text-align: right;\n",
       "    }\n",
       "</style>\n",
       "<table border=\"1\" class=\"dataframe\">\n",
       "  <thead>\n",
       "    <tr style=\"text-align: right;\">\n",
       "      <th></th>\n",
       "      <th>restaurant</th>\n",
       "      <th>online_order</th>\n",
       "      <th>book_table</th>\n",
       "      <th>rating</th>\n",
       "      <th>votes</th>\n",
       "      <th>cuisines</th>\n",
       "      <th>average_cost</th>\n",
       "      <th>restaurant_type</th>\n",
       "      <th>locality</th>\n",
       "    </tr>\n",
       "  </thead>\n",
       "  <tbody>\n",
       "    <tr>\n",
       "      <th>31305</th>\n",
       "      <td>154 Breakfast Club</td>\n",
       "      <td>Yes</td>\n",
       "      <td>Yes</td>\n",
       "      <td>4.0</td>\n",
       "      <td>1515</td>\n",
       "      <td>Cafe, Continental</td>\n",
       "      <td>900</td>\n",
       "      <td>Dine-out</td>\n",
       "      <td>Koramangala 5th Block</td>\n",
       "    </tr>\n",
       "    <tr>\n",
       "      <th>31306</th>\n",
       "      <td>154 Breakfast Club</td>\n",
       "      <td>Yes</td>\n",
       "      <td>Yes</td>\n",
       "      <td>4.0</td>\n",
       "      <td>1515</td>\n",
       "      <td>Cafe, Continental</td>\n",
       "      <td>900</td>\n",
       "      <td>Dine-out</td>\n",
       "      <td>Koramangala 5th Block</td>\n",
       "    </tr>\n",
       "    <tr>\n",
       "      <th>11705</th>\n",
       "      <td>99 Pancakes</td>\n",
       "      <td>Yes</td>\n",
       "      <td>No</td>\n",
       "      <td>4.1</td>\n",
       "      <td>41</td>\n",
       "      <td>Desserts, Ice Cream</td>\n",
       "      <td>150</td>\n",
       "      <td>Delivery</td>\n",
       "      <td>Church Street</td>\n",
       "    </tr>\n",
       "    <tr>\n",
       "      <th>12350</th>\n",
       "      <td>99 Pancakes</td>\n",
       "      <td>Yes</td>\n",
       "      <td>No</td>\n",
       "      <td>4.1</td>\n",
       "      <td>41</td>\n",
       "      <td>Desserts, Ice Cream</td>\n",
       "      <td>150</td>\n",
       "      <td>Delivery</td>\n",
       "      <td>Church Street</td>\n",
       "    </tr>\n",
       "    <tr>\n",
       "      <th>43823</th>\n",
       "      <td>Alchemy - The Chancery Pavilion</td>\n",
       "      <td>No</td>\n",
       "      <td>Yes</td>\n",
       "      <td>4.3</td>\n",
       "      <td>485</td>\n",
       "      <td>Modern Indian</td>\n",
       "      <td>2,000</td>\n",
       "      <td>Drinks &amp; nightlife</td>\n",
       "      <td>MG Road</td>\n",
       "    </tr>\n",
       "    <tr>\n",
       "      <th>...</th>\n",
       "      <td>...</td>\n",
       "      <td>...</td>\n",
       "      <td>...</td>\n",
       "      <td>...</td>\n",
       "      <td>...</td>\n",
       "      <td>...</td>\n",
       "      <td>...</td>\n",
       "      <td>...</td>\n",
       "      <td>...</td>\n",
       "    </tr>\n",
       "    <tr>\n",
       "      <th>24576</th>\n",
       "      <td>Victoria Terminus</td>\n",
       "      <td>Yes</td>\n",
       "      <td>No</td>\n",
       "      <td>2.9</td>\n",
       "      <td>54</td>\n",
       "      <td>Fast Food, Maharashtrian, Rolls</td>\n",
       "      <td>250</td>\n",
       "      <td>Delivery</td>\n",
       "      <td>Kalyan Nagar</td>\n",
       "    </tr>\n",
       "    <tr>\n",
       "      <th>12332</th>\n",
       "      <td>Vietnamese Kitchen</td>\n",
       "      <td>Yes</td>\n",
       "      <td>Yes</td>\n",
       "      <td>4.1</td>\n",
       "      <td>525</td>\n",
       "      <td>Chinese, Vietnamese, Momos, Thai</td>\n",
       "      <td>800</td>\n",
       "      <td>Delivery</td>\n",
       "      <td>Church Street</td>\n",
       "    </tr>\n",
       "    <tr>\n",
       "      <th>11841</th>\n",
       "      <td>Vietnamese Kitchen</td>\n",
       "      <td>Yes</td>\n",
       "      <td>Yes</td>\n",
       "      <td>4.1</td>\n",
       "      <td>525</td>\n",
       "      <td>Chinese, Vietnamese, Momos, Thai</td>\n",
       "      <td>800</td>\n",
       "      <td>Delivery</td>\n",
       "      <td>Church Street</td>\n",
       "    </tr>\n",
       "    <tr>\n",
       "      <th>9464</th>\n",
       "      <td>Vyanjan</td>\n",
       "      <td>Yes</td>\n",
       "      <td>No</td>\n",
       "      <td>3.9</td>\n",
       "      <td>201</td>\n",
       "      <td>North Indian, Street Food</td>\n",
       "      <td>300</td>\n",
       "      <td>Delivery</td>\n",
       "      <td>BTM</td>\n",
       "    </tr>\n",
       "    <tr>\n",
       "      <th>9454</th>\n",
       "      <td>Vyanjan</td>\n",
       "      <td>Yes</td>\n",
       "      <td>No</td>\n",
       "      <td>3.9</td>\n",
       "      <td>201</td>\n",
       "      <td>North Indian, Street Food</td>\n",
       "      <td>300</td>\n",
       "      <td>Delivery</td>\n",
       "      <td>BTM</td>\n",
       "    </tr>\n",
       "  </tbody>\n",
       "</table>\n",
       "<p>146 rows × 9 columns</p>\n",
       "</div>"
      ],
      "text/plain": [
       "                            restaurant online_order book_table  rating  votes  \\\n",
       "31305               154 Breakfast Club          Yes        Yes     4.0   1515   \n",
       "31306               154 Breakfast Club          Yes        Yes     4.0   1515   \n",
       "11705                      99 Pancakes          Yes         No     4.1     41   \n",
       "12350                      99 Pancakes          Yes         No     4.1     41   \n",
       "43823  Alchemy - The Chancery Pavilion           No        Yes     4.3    485   \n",
       "...                                ...          ...        ...     ...    ...   \n",
       "24576                Victoria Terminus          Yes         No     2.9     54   \n",
       "12332               Vietnamese Kitchen          Yes        Yes     4.1    525   \n",
       "11841               Vietnamese Kitchen          Yes        Yes     4.1    525   \n",
       "9464                           Vyanjan          Yes         No     3.9    201   \n",
       "9454                           Vyanjan          Yes         No     3.9    201   \n",
       "\n",
       "                               cuisines average_cost     restaurant_type  \\\n",
       "31305                 Cafe, Continental          900            Dine-out   \n",
       "31306                 Cafe, Continental          900            Dine-out   \n",
       "11705               Desserts, Ice Cream          150            Delivery   \n",
       "12350               Desserts, Ice Cream          150            Delivery   \n",
       "43823                     Modern Indian        2,000  Drinks & nightlife   \n",
       "...                                 ...          ...                 ...   \n",
       "24576   Fast Food, Maharashtrian, Rolls          250            Delivery   \n",
       "12332  Chinese, Vietnamese, Momos, Thai          800            Delivery   \n",
       "11841  Chinese, Vietnamese, Momos, Thai          800            Delivery   \n",
       "9464          North Indian, Street Food          300            Delivery   \n",
       "9454          North Indian, Street Food          300            Delivery   \n",
       "\n",
       "                    locality  \n",
       "31305  Koramangala 5th Block  \n",
       "31306  Koramangala 5th Block  \n",
       "11705          Church Street  \n",
       "12350          Church Street  \n",
       "43823                MG Road  \n",
       "...                      ...  \n",
       "24576           Kalyan Nagar  \n",
       "12332          Church Street  \n",
       "11841          Church Street  \n",
       "9464                     BTM  \n",
       "9454                     BTM  \n",
       "\n",
       "[146 rows x 9 columns]"
      ]
     },
     "execution_count": 20,
     "metadata": {},
     "output_type": "execute_result"
    }
   ],
   "source": [
    "df[df.duplicated(keep = False) == True].sort_values(by='restaurant')"
   ]
  },
  {
   "cell_type": "code",
   "execution_count": 21,
   "id": "c8b10d25-67d9-459a-8fd8-f6a6f9265900",
   "metadata": {},
   "outputs": [],
   "source": [
    "df.drop_duplicates(inplace = True)"
   ]
  },
  {
   "cell_type": "code",
   "execution_count": 22,
   "id": "fc96842c-035d-48e7-8993-391fd574aec1",
   "metadata": {
    "tags": []
   },
   "outputs": [
    {
     "data": {
      "text/plain": [
       "(41337, 9)"
      ]
     },
     "execution_count": 22,
     "metadata": {},
     "output_type": "execute_result"
    }
   ],
   "source": [
    "df.shape"
   ]
  },
  {
   "cell_type": "markdown",
   "id": "d7c7a9d5-633a-4cda-9889-c0aa290c67cd",
   "metadata": {},
   "source": [
    "### Changing data-types of columns"
   ]
  },
  {
   "cell_type": "code",
   "execution_count": 23,
   "id": "81934b3f-6e2d-4837-8e88-c67c72ebdf7d",
   "metadata": {},
   "outputs": [
    {
     "name": "stdout",
     "output_type": "stream",
     "text": [
      "<class 'pandas.core.frame.DataFrame'>\n",
      "Int64Index: 41337 entries, 0 to 51716\n",
      "Data columns (total 9 columns):\n",
      " #   Column           Non-Null Count  Dtype  \n",
      "---  ------           --------------  -----  \n",
      " 0   restaurant       41337 non-null  object \n",
      " 1   online_order     41337 non-null  object \n",
      " 2   book_table       41337 non-null  object \n",
      " 3   rating           41337 non-null  float64\n",
      " 4   votes            41337 non-null  int64  \n",
      " 5   cuisines         41337 non-null  object \n",
      " 6   average_cost     41337 non-null  object \n",
      " 7   restaurant_type  41337 non-null  object \n",
      " 8   locality         41337 non-null  object \n",
      "dtypes: float64(1), int64(1), object(7)\n",
      "memory usage: 3.2+ MB\n"
     ]
    }
   ],
   "source": [
    "df.info()"
   ]
  },
  {
   "cell_type": "code",
   "execution_count": 24,
   "id": "b43aa3f5-7ca5-4288-aee0-7c725ea3cc4b",
   "metadata": {},
   "outputs": [
    {
     "data": {
      "text/plain": [
       "array(['800', '300', '600', '700', '550', '500', '450', '650', '400',\n",
       "       '900', '200', '750', '150', '850', '100', '1,200', '350', '250',\n",
       "       '950', '1,000', '1,500', '1,300', '199', '1,100', '1,600', '230',\n",
       "       '130', '1,700', '1,350', '2,200', '1,400', '2,000', '1,800',\n",
       "       '1,900', '180', '330', '2,500', '2,100', '3,000', '2,800', '3,400',\n",
       "       '50', '40', '1,250', '3,500', '4,000', '2,400', '2,600', '1,450',\n",
       "       '70', '3,200', '240', '6,000', '1,050', '2,300', '4,100', '120',\n",
       "       '5,000', '3,700', '1,650', '2,700', '4,500', '80'], dtype=object)"
      ]
     },
     "execution_count": 24,
     "metadata": {},
     "output_type": "execute_result"
    }
   ],
   "source": [
    "df.average_cost.unique()"
   ]
  },
  {
   "cell_type": "code",
   "execution_count": 25,
   "id": "58a80632-21ab-4f66-9ff9-cd63f7102ee9",
   "metadata": {},
   "outputs": [],
   "source": [
    "df['average_cost'] = df['average_cost'].str.replace(',', '').astype(float)"
   ]
  },
  {
   "cell_type": "code",
   "execution_count": 26,
   "id": "b6a923ce-3d67-4071-b8d2-d060373c6256",
   "metadata": {},
   "outputs": [
    {
     "data": {
      "text/html": [
       "<div>\n",
       "<style scoped>\n",
       "    .dataframe tbody tr th:only-of-type {\n",
       "        vertical-align: middle;\n",
       "    }\n",
       "\n",
       "    .dataframe tbody tr th {\n",
       "        vertical-align: top;\n",
       "    }\n",
       "\n",
       "    .dataframe thead th {\n",
       "        text-align: right;\n",
       "    }\n",
       "</style>\n",
       "<table border=\"1\" class=\"dataframe\">\n",
       "  <thead>\n",
       "    <tr style=\"text-align: right;\">\n",
       "      <th></th>\n",
       "      <th>rating</th>\n",
       "      <th>votes</th>\n",
       "      <th>average_cost</th>\n",
       "    </tr>\n",
       "  </thead>\n",
       "  <tbody>\n",
       "    <tr>\n",
       "      <th>count</th>\n",
       "      <td>41337.000000</td>\n",
       "      <td>41337.000000</td>\n",
       "      <td>41337.000000</td>\n",
       "    </tr>\n",
       "    <tr>\n",
       "      <th>mean</th>\n",
       "      <td>3.700123</td>\n",
       "      <td>351.175823</td>\n",
       "      <td>602.944239</td>\n",
       "    </tr>\n",
       "    <tr>\n",
       "      <th>std</th>\n",
       "      <td>0.440599</td>\n",
       "      <td>882.052567</td>\n",
       "      <td>464.062590</td>\n",
       "    </tr>\n",
       "    <tr>\n",
       "      <th>min</th>\n",
       "      <td>1.800000</td>\n",
       "      <td>0.000000</td>\n",
       "      <td>40.000000</td>\n",
       "    </tr>\n",
       "    <tr>\n",
       "      <th>25%</th>\n",
       "      <td>3.400000</td>\n",
       "      <td>21.000000</td>\n",
       "      <td>300.000000</td>\n",
       "    </tr>\n",
       "    <tr>\n",
       "      <th>50%</th>\n",
       "      <td>3.700000</td>\n",
       "      <td>73.000000</td>\n",
       "      <td>500.000000</td>\n",
       "    </tr>\n",
       "    <tr>\n",
       "      <th>75%</th>\n",
       "      <td>4.000000</td>\n",
       "      <td>276.000000</td>\n",
       "      <td>700.000000</td>\n",
       "    </tr>\n",
       "    <tr>\n",
       "      <th>max</th>\n",
       "      <td>4.900000</td>\n",
       "      <td>16832.000000</td>\n",
       "      <td>6000.000000</td>\n",
       "    </tr>\n",
       "  </tbody>\n",
       "</table>\n",
       "</div>"
      ],
      "text/plain": [
       "             rating         votes  average_cost\n",
       "count  41337.000000  41337.000000  41337.000000\n",
       "mean       3.700123    351.175823    602.944239\n",
       "std        0.440599    882.052567    464.062590\n",
       "min        1.800000      0.000000     40.000000\n",
       "25%        3.400000     21.000000    300.000000\n",
       "50%        3.700000     73.000000    500.000000\n",
       "75%        4.000000    276.000000    700.000000\n",
       "max        4.900000  16832.000000   6000.000000"
      ]
     },
     "execution_count": 26,
     "metadata": {},
     "output_type": "execute_result"
    }
   ],
   "source": [
    "df.describe()"
   ]
  },
  {
   "cell_type": "code",
   "execution_count": 27,
   "id": "3723e745-de8c-45c2-8c16-94c929840f47",
   "metadata": {},
   "outputs": [
    {
     "name": "stdout",
     "output_type": "stream",
     "text": [
      "<class 'pandas.core.frame.DataFrame'>\n",
      "Int64Index: 41337 entries, 0 to 51716\n",
      "Data columns (total 9 columns):\n",
      " #   Column           Non-Null Count  Dtype  \n",
      "---  ------           --------------  -----  \n",
      " 0   restaurant       41337 non-null  object \n",
      " 1   online_order     41337 non-null  object \n",
      " 2   book_table       41337 non-null  object \n",
      " 3   rating           41337 non-null  float64\n",
      " 4   votes            41337 non-null  int64  \n",
      " 5   cuisines         41337 non-null  object \n",
      " 6   average_cost     41337 non-null  float64\n",
      " 7   restaurant_type  41337 non-null  object \n",
      " 8   locality         41337 non-null  object \n",
      "dtypes: float64(2), int64(1), object(6)\n",
      "memory usage: 3.2+ MB\n"
     ]
    }
   ],
   "source": [
    "df.info()"
   ]
  },
  {
   "cell_type": "code",
   "execution_count": 28,
   "id": "0aa0a352-dc16-4bbc-9833-65642c479276",
   "metadata": {},
   "outputs": [
    {
     "data": {
      "text/html": [
       "<div>\n",
       "<style scoped>\n",
       "    .dataframe tbody tr th:only-of-type {\n",
       "        vertical-align: middle;\n",
       "    }\n",
       "\n",
       "    .dataframe tbody tr th {\n",
       "        vertical-align: top;\n",
       "    }\n",
       "\n",
       "    .dataframe thead th {\n",
       "        text-align: right;\n",
       "    }\n",
       "</style>\n",
       "<table border=\"1\" class=\"dataframe\">\n",
       "  <thead>\n",
       "    <tr style=\"text-align: right;\">\n",
       "      <th></th>\n",
       "      <th>restaurant</th>\n",
       "      <th>online_order</th>\n",
       "      <th>book_table</th>\n",
       "      <th>rating</th>\n",
       "      <th>votes</th>\n",
       "      <th>cuisines</th>\n",
       "      <th>average_cost</th>\n",
       "      <th>restaurant_type</th>\n",
       "      <th>locality</th>\n",
       "    </tr>\n",
       "  </thead>\n",
       "  <tbody>\n",
       "    <tr>\n",
       "      <th>0</th>\n",
       "      <td>Jalsa</td>\n",
       "      <td>Yes</td>\n",
       "      <td>Yes</td>\n",
       "      <td>4.1</td>\n",
       "      <td>775</td>\n",
       "      <td>North Indian, Mughlai, Chinese</td>\n",
       "      <td>800.0</td>\n",
       "      <td>Buffet</td>\n",
       "      <td>Banashankari</td>\n",
       "    </tr>\n",
       "    <tr>\n",
       "      <th>1</th>\n",
       "      <td>Spice Elephant</td>\n",
       "      <td>Yes</td>\n",
       "      <td>No</td>\n",
       "      <td>4.1</td>\n",
       "      <td>787</td>\n",
       "      <td>Chinese, North Indian, Thai</td>\n",
       "      <td>800.0</td>\n",
       "      <td>Buffet</td>\n",
       "      <td>Banashankari</td>\n",
       "    </tr>\n",
       "    <tr>\n",
       "      <th>2</th>\n",
       "      <td>San Churro Cafe</td>\n",
       "      <td>Yes</td>\n",
       "      <td>No</td>\n",
       "      <td>3.8</td>\n",
       "      <td>918</td>\n",
       "      <td>Cafe, Mexican, Italian</td>\n",
       "      <td>800.0</td>\n",
       "      <td>Buffet</td>\n",
       "      <td>Banashankari</td>\n",
       "    </tr>\n",
       "    <tr>\n",
       "      <th>3</th>\n",
       "      <td>Addhuri Udupi Bhojana</td>\n",
       "      <td>No</td>\n",
       "      <td>No</td>\n",
       "      <td>3.7</td>\n",
       "      <td>88</td>\n",
       "      <td>South Indian, North Indian</td>\n",
       "      <td>300.0</td>\n",
       "      <td>Buffet</td>\n",
       "      <td>Banashankari</td>\n",
       "    </tr>\n",
       "    <tr>\n",
       "      <th>4</th>\n",
       "      <td>Grand Village</td>\n",
       "      <td>No</td>\n",
       "      <td>No</td>\n",
       "      <td>3.8</td>\n",
       "      <td>166</td>\n",
       "      <td>North Indian, Rajasthani</td>\n",
       "      <td>600.0</td>\n",
       "      <td>Buffet</td>\n",
       "      <td>Banashankari</td>\n",
       "    </tr>\n",
       "  </tbody>\n",
       "</table>\n",
       "</div>"
      ],
      "text/plain": [
       "              restaurant online_order book_table  rating  votes  \\\n",
       "0                  Jalsa          Yes        Yes     4.1    775   \n",
       "1         Spice Elephant          Yes         No     4.1    787   \n",
       "2        San Churro Cafe          Yes         No     3.8    918   \n",
       "3  Addhuri Udupi Bhojana           No         No     3.7     88   \n",
       "4          Grand Village           No         No     3.8    166   \n",
       "\n",
       "                         cuisines  average_cost restaurant_type      locality  \n",
       "0  North Indian, Mughlai, Chinese         800.0          Buffet  Banashankari  \n",
       "1     Chinese, North Indian, Thai         800.0          Buffet  Banashankari  \n",
       "2          Cafe, Mexican, Italian         800.0          Buffet  Banashankari  \n",
       "3      South Indian, North Indian         300.0          Buffet  Banashankari  \n",
       "4        North Indian, Rajasthani         600.0          Buffet  Banashankari  "
      ]
     },
     "execution_count": 28,
     "metadata": {},
     "output_type": "execute_result"
    }
   ],
   "source": [
    "df.head()"
   ]
  },
  {
   "cell_type": "code",
   "execution_count": 40,
   "id": "1d01f88f-ccf2-45d8-9869-ecb5326bfe82",
   "metadata": {},
   "outputs": [],
   "source": [
    "df.to_csv('clean_zomato.csv')"
   ]
  },
  {
   "cell_type": "markdown",
   "id": "57d350fc-662c-4963-a408-82a629d3507e",
   "metadata": {},
   "source": [
    "---"
   ]
  },
  {
   "cell_type": "markdown",
   "id": "7e824044-9824-444a-a8a9-1b698088aeff",
   "metadata": {},
   "source": [
    "# Data Visualization\n",
    "- Online order and Table booking\n",
    "- Online order and Table booking vs Rating\n",
    "- Average cost of the restaurant\n",
    "- Best restaurants by rating and number of votes\n",
    "- Most popular restaurant chains"
   ]
  },
  {
   "cell_type": "markdown",
   "id": "a4308197-f927-4241-b9e4-aca74f258c3e",
   "metadata": {},
   "source": [
    "---"
   ]
  },
  {
   "cell_type": "markdown",
   "id": "1c8e0e12-8233-4921-9475-31014b4fa7b5",
   "metadata": {},
   "source": [
    "### Online order and Table booking "
   ]
  },
  {
   "cell_type": "code",
   "execution_count": 29,
   "id": "4a2a59ed-dc05-4044-8cc5-34cf9fd88f93",
   "metadata": {},
   "outputs": [
    {
     "data": {
      "image/png": "[encoded data removed]",
      "text/plain": [
       "<Figure size 432x432 with 1 Axes>"
      ]
     },
     "metadata": {
      "needs_background": "light"
     },
     "output_type": "display_data"
    },
    {
     "data": {
      "image/png": "[encoded data removed]",
      "text/plain": [
       "<Figure size 432x432 with 1 Axes>"
      ]
     },
     "metadata": {
      "needs_background": "light"
     },
     "output_type": "display_data"
    }
   ],
   "source": [
    "plt.figure(figsize= (6, 6))\n",
    "sns.countplot(df, x= 'online_order')\n",
    "plt.title('Online Order')\n",
    "plt.xlabel(''), plt.ylabel('')\n",
    "plt.show;\n",
    "\n",
    "plt.figure(figsize= (6, 6))\n",
    "sns.countplot(df, x= 'book_table')\n",
    "plt.title('Table Booking')\n",
    "plt.xlabel(''), plt.ylabel('')\n",
    "plt.show;"
   ]
  },
  {
   "cell_type": "markdown",
   "id": "13b80b72-d1a2-42d7-8c75-9ff1bc29ee75",
   "metadata": {},
   "source": [
    "> Here we can see that:  \n",
    "- over **25000** restaurants accept online order   \n",
    "- and about **15000** don't have online order\n",
    "- **Vast majority** of restaurants **don't have table booking** option"
   ]
  },
  {
   "cell_type": "markdown",
   "id": "1e396e2a-ba17-40e2-aaf3-f21cef973e37",
   "metadata": {},
   "source": [
    "---"
   ]
  },
  {
   "cell_type": "markdown",
   "id": "1c4b2746-19c1-4f7e-af13-cb87dd27f137",
   "metadata": {},
   "source": [
    "### Online order and Table booking vs Rating"
   ]
  },
  {
   "cell_type": "code",
   "execution_count": 30,
   "id": "fb89a301-28ef-4839-a51e-608ed3807c8c",
   "metadata": {},
   "outputs": [
    {
     "data": {
      "image/png": "[encoded data removed]",
      "text/plain": [
       "<Figure size 432x432 with 1 Axes>"
      ]
     },
     "metadata": {
      "needs_background": "light"
     },
     "output_type": "display_data"
    },
    {
     "data": {
      "image/png": "[encoded data removed]",
      "text/plain": [
       "<Figure size 432x432 with 1 Axes>"
      ]
     },
     "metadata": {
      "needs_background": "light"
     },
     "output_type": "display_data"
    }
   ],
   "source": [
    "plt.figure(figsize= (6, 6))\n",
    "sns.boxplot(df, x='online_order', y=\"rating\")\n",
    "plt.title('Online Order vs Rating')\n",
    "plt.xlabel(''), plt.ylabel('rating')\n",
    "plt.show;\n",
    "\n",
    "plt.figure(figsize= (6, 6))\n",
    "sns.boxplot(df, x='book_table', y=\"rating\")\n",
    "plt.title('Table Booking vs Rating')\n",
    "plt.xlabel(''), plt.ylabel('rating')\n",
    "plt.show;"
   ]
  },
  {
   "cell_type": "markdown",
   "id": "a5a363c0-4743-4967-8c88-d05ed5c4e880",
   "metadata": {},
   "source": [
    "- Restaurants that have online order have slightly higher average rating  \n",
    "- Restaurants that have table booking option have much higher average rating"
   ]
  },
  {
   "cell_type": "markdown",
   "id": "fbac8ca0-fc5f-475a-a1de-300738da13d8",
   "metadata": {},
   "source": [
    "---"
   ]
  },
  {
   "cell_type": "markdown",
   "id": "f96ed897-8e02-4a5a-b9a0-fc0ad06cc365",
   "metadata": {},
   "source": [
    "### Number of restaurants by their type"
   ]
  },
  {
   "cell_type": "code",
   "execution_count": 31,
   "id": "1e026f4d-a71b-4c5c-b3d0-b7f1d2e4f939",
   "metadata": {},
   "outputs": [
    {
     "data": {
      "text/html": [
       "<div>\n",
       "<style scoped>\n",
       "    .dataframe tbody tr th:only-of-type {\n",
       "        vertical-align: middle;\n",
       "    }\n",
       "\n",
       "    .dataframe tbody tr th {\n",
       "        vertical-align: top;\n",
       "    }\n",
       "\n",
       "    .dataframe thead th {\n",
       "        text-align: right;\n",
       "    }\n",
       "</style>\n",
       "<table border=\"1\" class=\"dataframe\">\n",
       "  <thead>\n",
       "    <tr style=\"text-align: right;\">\n",
       "      <th></th>\n",
       "      <th>restaurant_type</th>\n",
       "    </tr>\n",
       "  </thead>\n",
       "  <tbody>\n",
       "    <tr>\n",
       "      <th>Delivery</th>\n",
       "      <td>20488</td>\n",
       "    </tr>\n",
       "    <tr>\n",
       "      <th>Dine-out</th>\n",
       "      <td>14110</td>\n",
       "    </tr>\n",
       "    <tr>\n",
       "      <th>Desserts</th>\n",
       "      <td>2714</td>\n",
       "    </tr>\n",
       "    <tr>\n",
       "      <th>Cafes</th>\n",
       "      <td>1511</td>\n",
       "    </tr>\n",
       "    <tr>\n",
       "      <th>Drinks &amp; nightlife</th>\n",
       "      <td>1038</td>\n",
       "    </tr>\n",
       "    <tr>\n",
       "      <th>Buffet</th>\n",
       "      <td>846</td>\n",
       "    </tr>\n",
       "    <tr>\n",
       "      <th>Pubs and bars</th>\n",
       "      <td>630</td>\n",
       "    </tr>\n",
       "  </tbody>\n",
       "</table>\n",
       "</div>"
      ],
      "text/plain": [
       "                    restaurant_type\n",
       "Delivery                      20488\n",
       "Dine-out                      14110\n",
       "Desserts                       2714\n",
       "Cafes                          1511\n",
       "Drinks & nightlife             1038\n",
       "Buffet                          846\n",
       "Pubs and bars                   630"
      ]
     },
     "execution_count": 31,
     "metadata": {},
     "output_type": "execute_result"
    }
   ],
   "source": [
    "df1 = df.restaurant_type.value_counts()\n",
    "df1.to_frame()"
   ]
  },
  {
   "cell_type": "code",
   "execution_count": 32,
   "id": "941b299b-f5fd-4170-baf4-c1f85f63efa6",
   "metadata": {
    "tags": []
   },
   "outputs": [
    {
     "data": {
      "image/png": "[encoded data removed]",
      "text/plain": [
       "<Figure size 720x360 with 1 Axes>"
      ]
     },
     "metadata": {
      "needs_background": "light"
     },
     "output_type": "display_data"
    }
   ],
   "source": [
    "plt.figure(figsize= (10, 5))\n",
    "sns.barplot(x = df1, y= df1.index)\n",
    "plt.title('rest_types distribution')\n",
    "plt.xlabel('');"
   ]
  },
  {
   "cell_type": "markdown",
   "id": "a5225503-e831-480b-bf68-25c465522362",
   "metadata": {},
   "source": [
    "- Most of the restaurants have type of **Delivery** or **Dine-out**"
   ]
  },
  {
   "cell_type": "markdown",
   "id": "6dce05e3-6642-470d-9ee7-bd17cc92988e",
   "metadata": {},
   "source": [
    "---"
   ]
  },
  {
   "cell_type": "markdown",
   "id": "cd80f776-4b23-4fd5-b7f8-d9ec36670375",
   "metadata": {},
   "source": [
    "### Average cost of the restaurant"
   ]
  },
  {
   "cell_type": "code",
   "execution_count": 33,
   "id": "20d3cb5c-a9bd-4190-b859-1053353e04ad",
   "metadata": {},
   "outputs": [
    {
     "data": {
      "image/png": "[encoded data removed]",
      "text/plain": [
       "<Figure size 432x432 with 1 Axes>"
      ]
     },
     "metadata": {
      "needs_background": "light"
     },
     "output_type": "display_data"
    }
   ],
   "source": [
    "plt.figure(figsize= (6,6))\n",
    "sns.kdeplot(df, x='average_cost')\n",
    "plt.title('KDE for average cost')\n",
    "plt.xlabel('average_cost'), plt.ylabel('density')\n",
    "plt.show;"
   ]
  },
  {
   "cell_type": "markdown",
   "id": "26a0e0e9-260a-4301-9f23-7a344de94c92",
   "metadata": {},
   "source": [
    "- If we look at the plot above we can see that most of the restaurants cost up to 1000"
   ]
  },
  {
   "cell_type": "markdown",
   "id": "6f84a3f5-c537-4a09-80e6-30d6c82de994",
   "metadata": {},
   "source": [
    "---"
   ]
  },
  {
   "cell_type": "markdown",
   "id": "3ac61f41-a0c5-4598-95c7-66f8c38e47b7",
   "metadata": {},
   "source": [
    "### Best restaurants by rating and number of votes"
   ]
  },
  {
   "cell_type": "code",
   "execution_count": 34,
   "id": "927d12d2-d4f0-4ea2-b63e-054d7de8173c",
   "metadata": {},
   "outputs": [
    {
     "data": {
      "image/png": "[encoded data removed]",
      "text/plain": [
       "<Figure size 432x432 with 1 Axes>"
      ]
     },
     "metadata": {
      "needs_background": "light"
     },
     "output_type": "display_data"
    }
   ],
   "source": [
    "plt.figure(figsize= (6,6))\n",
    "sns.kdeplot(df, x='rating')\n",
    "plt.title('KDE for rating')\n",
    "plt.xlabel('rating'), plt.ylabel('density')\n",
    "plt.show;"
   ]
  },
  {
   "cell_type": "markdown",
   "id": "f355527f-2fd2-486f-a61d-acea0fe610d8",
   "metadata": {},
   "source": [
    "- As we can see in KDE plot for rating most of the restaurants have rating between **3** and **4.5**"
   ]
  },
  {
   "cell_type": "code",
   "execution_count": 35,
   "id": "41b4f649-ad47-48b0-8dec-83a219786a55",
   "metadata": {},
   "outputs": [
    {
     "data": {
      "text/html": [
       "<div>\n",
       "<style scoped>\n",
       "    .dataframe tbody tr th:only-of-type {\n",
       "        vertical-align: middle;\n",
       "    }\n",
       "\n",
       "    .dataframe tbody tr th {\n",
       "        vertical-align: top;\n",
       "    }\n",
       "\n",
       "    .dataframe thead th {\n",
       "        text-align: right;\n",
       "    }\n",
       "</style>\n",
       "<table border=\"1\" class=\"dataframe\">\n",
       "  <thead>\n",
       "    <tr style=\"text-align: right;\">\n",
       "      <th></th>\n",
       "      <th>rating</th>\n",
       "    </tr>\n",
       "    <tr>\n",
       "      <th>restaurant</th>\n",
       "      <th></th>\n",
       "    </tr>\n",
       "  </thead>\n",
       "  <tbody>\n",
       "    <tr>\n",
       "      <th>SantSpa Cuisine</th>\n",
       "      <td>4.900000</td>\n",
       "    </tr>\n",
       "    <tr>\n",
       "      <th>Asia Kitchen By Mainland China</th>\n",
       "      <td>4.900000</td>\n",
       "    </tr>\n",
       "    <tr>\n",
       "      <th>Byg Brewski Brewing Company</th>\n",
       "      <td>4.900000</td>\n",
       "    </tr>\n",
       "    <tr>\n",
       "      <th>Punjab Grill</th>\n",
       "      <td>4.871429</td>\n",
       "    </tr>\n",
       "    <tr>\n",
       "      <th>Belgian Waffle Factory</th>\n",
       "      <td>4.844828</td>\n",
       "    </tr>\n",
       "    <tr>\n",
       "      <th>Flechazo</th>\n",
       "      <td>4.800000</td>\n",
       "    </tr>\n",
       "    <tr>\n",
       "      <th>O.G. Variar &amp; Sons</th>\n",
       "      <td>4.800000</td>\n",
       "    </tr>\n",
       "    <tr>\n",
       "      <th>The Pizza Bakery</th>\n",
       "      <td>4.800000</td>\n",
       "    </tr>\n",
       "    <tr>\n",
       "      <th>AB's - Absolute Barbecues</th>\n",
       "      <td>4.789474</td>\n",
       "    </tr>\n",
       "    <tr>\n",
       "      <th>Biergarten</th>\n",
       "      <td>4.766667</td>\n",
       "    </tr>\n",
       "  </tbody>\n",
       "</table>\n",
       "</div>"
      ],
      "text/plain": [
       "                                  rating\n",
       "restaurant                              \n",
       "SantSpa Cuisine                 4.900000\n",
       "Asia Kitchen By Mainland China  4.900000\n",
       "Byg Brewski Brewing Company     4.900000\n",
       "Punjab Grill                    4.871429\n",
       "Belgian Waffle Factory          4.844828\n",
       "Flechazo                        4.800000\n",
       "O.G. Variar & Sons              4.800000\n",
       "The Pizza Bakery                4.800000\n",
       "AB's - Absolute Barbecues       4.789474\n",
       "Biergarten                      4.766667"
      ]
     },
     "execution_count": 35,
     "metadata": {},
     "output_type": "execute_result"
    }
   ],
   "source": [
    "df.groupby('restaurant')['rating'].mean().sort_values(ascending = False).head(10).to_frame()"
   ]
  },
  {
   "cell_type": "code",
   "execution_count": 36,
   "id": "f1353d88-8d67-4c18-8fb9-98efd51f9ac7",
   "metadata": {},
   "outputs": [
    {
     "data": {
      "text/html": [
       "<div>\n",
       "<style scoped>\n",
       "    .dataframe tbody tr th:only-of-type {\n",
       "        vertical-align: middle;\n",
       "    }\n",
       "\n",
       "    .dataframe tbody tr th {\n",
       "        vertical-align: top;\n",
       "    }\n",
       "\n",
       "    .dataframe thead th {\n",
       "        text-align: right;\n",
       "    }\n",
       "</style>\n",
       "<table border=\"1\" class=\"dataframe\">\n",
       "  <thead>\n",
       "    <tr style=\"text-align: right;\">\n",
       "      <th></th>\n",
       "      <th>votes</th>\n",
       "    </tr>\n",
       "    <tr>\n",
       "      <th>restaurant</th>\n",
       "      <th></th>\n",
       "    </tr>\n",
       "  </thead>\n",
       "  <tbody>\n",
       "    <tr>\n",
       "      <th>Byg Brewski Brewing Company</th>\n",
       "      <td>16588.500000</td>\n",
       "    </tr>\n",
       "    <tr>\n",
       "      <th>Toit</th>\n",
       "      <td>14956.000000</td>\n",
       "    </tr>\n",
       "    <tr>\n",
       "      <th>The Black Pearl</th>\n",
       "      <td>9562.333333</td>\n",
       "    </tr>\n",
       "    <tr>\n",
       "      <th>Big Pitcher</th>\n",
       "      <td>9164.500000</td>\n",
       "    </tr>\n",
       "    <tr>\n",
       "      <th>Arbor Brewing Company</th>\n",
       "      <td>8396.545455</td>\n",
       "    </tr>\n",
       "    <tr>\n",
       "      <th>Prost Brew Pub</th>\n",
       "      <td>7860.900000</td>\n",
       "    </tr>\n",
       "    <tr>\n",
       "      <th>Church Street Social</th>\n",
       "      <td>7561.727273</td>\n",
       "    </tr>\n",
       "    <tr>\n",
       "      <th>Hoot</th>\n",
       "      <td>7257.000000</td>\n",
       "    </tr>\n",
       "    <tr>\n",
       "      <th>The Hole in the Wall Cafe</th>\n",
       "      <td>7124.875000</td>\n",
       "    </tr>\n",
       "    <tr>\n",
       "      <th>Truffles</th>\n",
       "      <td>7001.372093</td>\n",
       "    </tr>\n",
       "  </tbody>\n",
       "</table>\n",
       "</div>"
      ],
      "text/plain": [
       "                                    votes\n",
       "restaurant                               \n",
       "Byg Brewski Brewing Company  16588.500000\n",
       "Toit                         14956.000000\n",
       "The Black Pearl               9562.333333\n",
       "Big Pitcher                   9164.500000\n",
       "Arbor Brewing Company         8396.545455\n",
       "Prost Brew Pub                7860.900000\n",
       "Church Street Social          7561.727273\n",
       "Hoot                          7257.000000\n",
       "The Hole in the Wall Cafe     7124.875000\n",
       "Truffles                      7001.372093"
      ]
     },
     "execution_count": 36,
     "metadata": {},
     "output_type": "execute_result"
    }
   ],
   "source": [
    "df.groupby('restaurant')['votes'].mean().sort_values(ascending = False).head(10).to_frame()"
   ]
  },
  {
   "cell_type": "markdown",
   "id": "efce1e7d-f8cc-427c-b197-12b3cc0e2948",
   "metadata": {},
   "source": [
    "- The best restaurant by looking at number of votes and rating is **Byg Brewski Brewing Company** as it has **top 1 rating and top 1 votes**"
   ]
  },
  {
   "cell_type": "markdown",
   "id": "39baaacf-d42a-47b5-ba1f-0d3dfbfafb3c",
   "metadata": {},
   "source": [
    "---"
   ]
  },
  {
   "cell_type": "markdown",
   "id": "d01f77ae-ec20-4d5e-bfaa-38f9a6af2c34",
   "metadata": {},
   "source": [
    "### Most popular restaurant chains"
   ]
  },
  {
   "cell_type": "code",
   "execution_count": 37,
   "id": "57a4dac6-314e-4399-82d0-68e3b0ef23e5",
   "metadata": {},
   "outputs": [
    {
     "data": {
      "text/plain": [
       "Cafe Coffee Day      86\n",
       "Onesta               85\n",
       "Empire Restaurant    69\n",
       "Kanti Sweets         68\n",
       "Five Star Chicken    68\n",
       "Just Bake            67\n",
       "Baskin Robbins       62\n",
       "KFC                  60\n",
       "Pizza Hut            60\n",
       "Petoo                60\n",
       "Name: restaurant, dtype: int64"
      ]
     },
     "execution_count": 37,
     "metadata": {},
     "output_type": "execute_result"
    }
   ],
   "source": [
    "df2 = df['restaurant'].value_counts().head(10)\n",
    "df2"
   ]
  },
  {
   "cell_type": "code",
   "execution_count": 38,
   "id": "a206ea05-6aa9-4497-8255-59f4882b11ba",
   "metadata": {},
   "outputs": [
    {
     "data": {
      "image/png": "[encoded data removed]",
      "text/plain": [
       "<Figure size 1080x360 with 1 Axes>"
      ]
     },
     "metadata": {
      "needs_background": "light"
     },
     "output_type": "display_data"
    }
   ],
   "source": [
    "plt.figure(figsize= (15, 5))\n",
    "sns.barplot(x = df2, y= df2.index, palette = 'bright')\n",
    "plt.xlabel('number of restaurants')\n",
    "plt.show;"
   ]
  },
  {
   "cell_type": "markdown",
   "id": "76ff1d5b-9764-48d0-bb35-42eceabe26c5",
   "metadata": {},
   "source": [
    "- These are top 10 restaurants by number of branches in the city where we can see absolute liders: **Cafe Coffee Day** and **Onesta**"
   ]
  }
 ],
 "metadata": {
  "kernelspec": {
   "display_name": "zomato",
   "language": "python",
   "name": "zomato"
  },
  "language_info": {
   "codemirror_mode": {
    "name": "ipython",
    "version": 3
   },
   "file_extension": ".py",
   "mimetype": "text/x-python",
   "name": "python",
   "nbconvert_exporter": "python",
   "pygments_lexer": "ipython3",
   "version": "3.10.6"
  }
 },
 "nbformat": 4,
 "nbformat_minor": 5
}
